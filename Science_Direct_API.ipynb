{
 "cells": [
  {
   "cell_type": "code",
   "execution_count": 294,
   "metadata": {
    "collapsed": false
   },
   "outputs": [
    {
     "data": {
      "text/html": [
       "<script>requirejs.config({paths: { 'plotly': ['https://cdn.plot.ly/plotly-latest.min']},});if(!window.Plotly) {{require(['plotly'],function(plotly) {window.Plotly=plotly;});}}</script>"
      ],
      "text/plain": [
       "<IPython.core.display.HTML object>"
      ]
     },
     "metadata": {},
     "output_type": "display_data"
    }
   ],
   "source": [
    "import pandas as pd\n",
    "import numpy as np\n",
    "import urllib.request as urlreq\n",
    "from scipy.optimize import curve_fit\n",
    "import plotly as py\n",
    "import plotly.graph_objs as go\n",
    "from plotly.offline import download_plotlyjs, init_notebook_mode, plot, iplot\n",
    "init_notebook_mode(connected=True) #enables plotly offline plotting\n",
    "#Change your username and set the path for your own plot.ly API key\n",
    "py.tools.set_credentials_file(username='gianlucahmd', api_key=open('/Users/Gianluca/Desktop/plotly_key.txt', \"r\").read())"
   ]
  },
  {
   "cell_type": "markdown",
   "metadata": {},
   "source": [
    "# Defining basic functions"
   ]
  },
  {
   "cell_type": "code",
   "execution_count": 295,
   "metadata": {
    "collapsed": true
   },
   "outputs": [],
   "source": [
    "#Set the path for your own Science Direct API key\n",
    "apikey = str(open(\"Desktop/SDapikey.txt\", \"r\").read())\n",
    "#My personal path for exporting/importing files\n",
    "path = \"Documents/data_stuff/AI_research/\"\n",
    "\n",
    "#performs query on Science Direct's API and parses the .json response\n",
    "def get_sd(query, subject, year):\n",
    "    query = query.replace(\" \", \"+\")\n",
    "    url = (\"http://api.elsevier.com/content/search/scopus?query=\" + query +\n",
    "            \"&subj=\" + subject +\n",
    "            \"&date=\" + str(year) +\n",
    "            \"&apiKey=\" + apikey)\n",
    "    return pd.read_json( urlreq.urlopen(url).read() )\n",
    "\n",
    "#Returns the amount of publications in a specified year, for a certain query and subject\n",
    "def pub_number(query, subject, year):\n",
    "    return int(get_sd(query, subject, year).loc[\"opensearch:totalResults\",\"search-results\"])\n",
    "\n",
    "#Returns an array with the timeline of publications for a certain query and subject\n",
    "#ranging in a timeframe from \"start\" to \"end\"\n",
    "def pub_timeline(query, subject, start, end):\n",
    "    timeline = []\n",
    "    for year in range(start, end):\n",
    "        timeline.append(pub_number(query, subject, year))\n",
    "    return timeline"
   ]
  },
  {
   "cell_type": "markdown",
   "metadata": {},
   "source": [
    "# List of SD API subject keys"
   ]
  },
  {
   "cell_type": "markdown",
   "metadata": {},
   "source": [
    "* AGRI -\tAgricultural and Biological Sciences \n",
    "* ARTS -\tArts and Humanities \n",
    "* BIOC -\tBiochemistry, Genetics and Molecular Biology \n",
    "* BUSI -\tBusiness, Management and Accounting \n",
    "* CENG -\tChemical Engineering \n",
    "* CHEM -\tChemistry \n",
    "* COMP -\tComputer Science \n",
    "* DECI -\tDecision Sciences \n",
    "* DENT -\tDentistry \n",
    "* EART -\tEarth and Planetary Sciences \n",
    "* ECON -\tEconomics, Econometrics and Finance \n",
    "* ENER -\tEnergy \n",
    "* ENGI -\tEngineering \n",
    "* ENVI -\tEnvironmental Science \n",
    "* HEAL -\tHealth Professions \n",
    "* IMMU -\tImmunology and Microbiology \n",
    "* MATE -\tMaterials Science \n",
    "* MATH -\tMathematics \n",
    "* MEDI -\tMedicine \n",
    "* NEUR -\tNeuroscience \n",
    "* NURS -\tNursing \n",
    "* PHAR -\tPharmacology, Toxicology and Pharmaceutics \n",
    "* PHYS -\tPhysics and Astronomy \n",
    "* PSYC -\tPsychology \n",
    "* SOCI -\tSocial Sciences \n",
    "* VETE -\tVeterinary \n",
    "* MULT -\tMultidisciplinary "
   ]
  },
  {
   "cell_type": "markdown",
   "metadata": {},
   "source": [
    "# Create dataframe with publications for each subject"
   ]
  },
  {
   "cell_type": "code",
   "execution_count": 4,
   "metadata": {
    "collapsed": false
   },
   "outputs": [],
   "source": [
    "pub_subjects = pd.DataFrame()\n",
    "#subjects codes\n",
    "subjects = [\"AGRI\",\"ARTS\",\"BIOC\",\"BUSI\",\"CENG\",\"CHEM\",\"COMP\",\"DECI\",\"DENT\",\n",
    "\"EART\",\"ECON\",\"ENER\",\"ENGI\",\"ENVI\",\"HEAL\",\"IMMU\",\"MATE\",\"MATH\",\n",
    "\"MEDI\",\"NEUR\",\"NURS\",\"PHAR\",\"PHYS\",\"PSYC\",\"SOCI\",\"VETE\",\"MULT\"]\n",
    "\n",
    "for subject in subjects:\n",
    "    pub_subjects.loc[subject, \"publications\"] = pub_number(\"Artificial Intelligence\", subject, \"1950-2017\")"
   ]
  },
  {
   "cell_type": "code",
   "execution_count": 5,
   "metadata": {
    "collapsed": false
   },
   "outputs": [],
   "source": [
    "pub_subjects[\"topics\"] = [\"Agricultural and Biological Sciences \",\"Arts and Humanities \",\n",
    "    \"Biochemistry, Genetics and Molecular Biology \",\n",
    "    \"Business, Management and Accounting \",\"Chemical Engineering \",\n",
    "    \"Chemistry \",\"Computer Science \",\"Decision Sciences \",\"Dentistry \",\n",
    "    \"Earth and Planetary Sciences \",\"Economics, Econometrics and Finance \",\n",
    "    \"Energy \",\"Engineering \",\"Environmental Science \",\"Health Professions \",\n",
    "    \"Immunology and Microbiology \",\"Materials Science \",\"Mathematics \",\"Medicine \",\n",
    "    \"Neuroscience \",\"Nursing \",\"Pharmacology, Toxicology and Pharmaceutics \",\n",
    "    \"Physics and Astronomy \",\"Psychology \",\"Social Sciences \",\"Veterinary \",\n",
    "    \"Multidisciplinary\"]"
   ]
  },
  {
   "cell_type": "code",
   "execution_count": 6,
   "metadata": {
    "collapsed": false
   },
   "outputs": [],
   "source": [
    "pub_subjects[\"publications\"] = pub_subjects[\"publications\"].astype(int)"
   ]
  },
  {
   "cell_type": "markdown",
   "metadata": {},
   "source": [
    "## Export/Import dataframe"
   ]
  },
  {
   "cell_type": "code",
   "execution_count": 266,
   "metadata": {
    "collapsed": false
   },
   "outputs": [],
   "source": [
    "#pub_subjects.to_csv(path + \"pub_subjects.csv\")\n",
    "pub_subjects = pd.read_csv(path + \"pub_subjects.csv\")\n",
    "pub_subjects_sorted = pub_subjects.sort_values(\"publications\", ascending = True)"
   ]
  },
  {
   "cell_type": "markdown",
   "metadata": {},
   "source": [
    "# Plot amount of publications for different subjects\n",
    "Additional styling is done on plot.ly's web interface"
   ]
  },
  {
   "cell_type": "code",
   "execution_count": 270,
   "metadata": {
    "collapsed": false
   },
   "outputs": [
    {
     "data": {
      "text/html": [
       "<div id=\"68f275b2-7f02-4247-9db1-b968300957c5\" style=\"height: 525px; width: 100%;\" class=\"plotly-graph-div\"></div><script type=\"text/javascript\">require([\"plotly\"], function(Plotly) { window.PLOTLYENV=window.PLOTLYENV || {};window.PLOTLYENV.BASE_URL=\"https://plot.ly\";Plotly.newPlot(\"68f275b2-7f02-4247-9db1-b968300957c5\", [{\"y\": [\"Veterinary \", \"Dentistry \", \"Nursing \", \"Immunology and Microbiology \", \"Pharmacology, Toxicology and Pharmaceutics \", \"Multidisciplinary\", \"Economics, Econometrics and Finance \", \"Chemistry \", \"Health Professions \", \"Chemical Engineering \", \"Energy \", \"Agricultural and Biological Sciences \", \"Psychology \", \"Earth and Planetary Sciences \", \"Environmental Science \", \"Neuroscience \", \"Arts and Humanities \", \"Materials Science \", \"Business, Management and Accounting \", \"Physics and Astronomy \", \"Decision Sciences \", \"Medicine \", \"Social Sciences \", \"Biochemistry, Genetics and Molecular Biology \"], \"type\": \"bar\", \"marker\": {\"color\": \"rgb(2, 184, 117)\"}, \"orientation\": \"h\", \"text\": \"25                                      Veterinary \\n8                                        Dentistry \\n20                                         Nursing \\n15                     Immunology and Microbiology \\n21      Pharmacology, Toxicology and Pharmaceutics \\n26                                Multidisciplinary\\n10             Economics, Econometrics and Finance \\n5                                        Chemistry \\n14                              Health Professions \\n4                             Chemical Engineering \\n11                                          Energy \\n0             Agricultural and Biological Sciences \\n23                                      Psychology \\n9                     Earth and Planetary Sciences \\n13                           Environmental Science \\n19                                    Neuroscience \\n1                              Arts and Humanities \\n16                               Materials Science \\n3              Business, Management and Accounting \\n22                           Physics and Astronomy \\n7                                Decision Sciences \\n18                                        Medicine \\n24                                 Social Sciences \\n2     Biochemistry, Genetics and Molecular Biology \\nName: topics, dtype: object\", \"x\": [264, 265, 1662, 2351, 3289, 6314, 7567, 9950, 10411, 11462, 13272, 13617, 15338, 15921, 16117, 18680, 20428, 21181, 27634, 36373, 41078, 53751, 58246, 105456]}], {\"xaxis\": {\"showgrid\": false, \"title\": \"publications\", \"anchor\": \"free\", \"position\": 1, \"showticklabels\": false}, \"title\": \"Number of publications on AI applied to different subjects\", \"annotations\": [{\"showarrow\": false, \"xanchor\": \"left\", \"font\": {\"size\": 12}, \"y\": \"Veterinary \", \"yanchor\": \"center\", \"x\": 264, \"text\": \"264\"}, {\"showarrow\": false, \"xanchor\": \"left\", \"font\": {\"size\": 12}, \"y\": \"Dentistry \", \"yanchor\": \"center\", \"x\": 265, \"text\": \"265\"}, {\"showarrow\": false, \"xanchor\": \"left\", \"font\": {\"size\": 12}, \"y\": \"Nursing \", \"yanchor\": \"center\", \"x\": 1662, \"text\": \"1662\"}, {\"showarrow\": false, \"xanchor\": \"left\", \"font\": {\"size\": 12}, \"y\": \"Immunology and Microbiology \", \"yanchor\": \"center\", \"x\": 2351, \"text\": \"2351\"}, {\"showarrow\": false, \"xanchor\": \"left\", \"font\": {\"size\": 12}, \"y\": \"Pharmacology, Toxicology and Pharmaceutics \", \"yanchor\": \"center\", \"x\": 3289, \"text\": \"3289\"}, {\"showarrow\": false, \"xanchor\": \"left\", \"font\": {\"size\": 12}, \"y\": \"Multidisciplinary\", \"yanchor\": \"center\", \"x\": 6314, \"text\": \"6314\"}, {\"showarrow\": false, \"xanchor\": \"left\", \"font\": {\"size\": 12}, \"y\": \"Economics, Econometrics and Finance \", \"yanchor\": \"center\", \"x\": 7567, \"text\": \"7567\"}, {\"showarrow\": false, \"xanchor\": \"left\", \"font\": {\"size\": 12}, \"y\": \"Chemistry \", \"yanchor\": \"center\", \"x\": 9950, \"text\": \"9950\"}, {\"showarrow\": false, \"xanchor\": \"left\", \"font\": {\"size\": 12}, \"y\": \"Health Professions \", \"yanchor\": \"center\", \"x\": 10411, \"text\": \"10411\"}, {\"showarrow\": false, \"xanchor\": \"left\", \"font\": {\"size\": 12}, \"y\": \"Chemical Engineering \", \"yanchor\": \"center\", \"x\": 11462, \"text\": \"11462\"}, {\"showarrow\": false, \"xanchor\": \"left\", \"font\": {\"size\": 12}, \"y\": \"Energy \", \"yanchor\": \"center\", \"x\": 13272, \"text\": \"13272\"}, {\"showarrow\": false, \"xanchor\": \"left\", \"font\": {\"size\": 12}, \"y\": \"Agricultural and Biological Sciences \", \"yanchor\": \"center\", \"x\": 13617, \"text\": \"13617\"}, {\"showarrow\": false, \"xanchor\": \"left\", \"font\": {\"size\": 12}, \"y\": \"Psychology \", \"yanchor\": \"center\", \"x\": 15338, \"text\": \"15338\"}, {\"showarrow\": false, \"xanchor\": \"left\", \"font\": {\"size\": 12}, \"y\": \"Earth and Planetary Sciences \", \"yanchor\": \"center\", \"x\": 15921, \"text\": \"15921\"}, {\"showarrow\": false, \"xanchor\": \"left\", \"font\": {\"size\": 12}, \"y\": \"Environmental Science \", \"yanchor\": \"center\", \"x\": 16117, \"text\": \"16117\"}, {\"showarrow\": false, \"xanchor\": \"left\", \"font\": {\"size\": 12}, \"y\": \"Neuroscience \", \"yanchor\": \"center\", \"x\": 18680, \"text\": \"18680\"}, {\"showarrow\": false, \"xanchor\": \"left\", \"font\": {\"size\": 12}, \"y\": \"Arts and Humanities \", \"yanchor\": \"center\", \"x\": 20428, \"text\": \"20428\"}, {\"showarrow\": false, \"xanchor\": \"left\", \"font\": {\"size\": 12}, \"y\": \"Materials Science \", \"yanchor\": \"center\", \"x\": 21181, \"text\": \"21181\"}, {\"showarrow\": false, \"xanchor\": \"left\", \"font\": {\"size\": 12}, \"y\": \"Business, Management and Accounting \", \"yanchor\": \"center\", \"x\": 27634, \"text\": \"27634\"}, {\"showarrow\": false, \"xanchor\": \"left\", \"font\": {\"size\": 12}, \"y\": \"Physics and Astronomy \", \"yanchor\": \"center\", \"x\": 36373, \"text\": \"36373\"}, {\"showarrow\": false, \"xanchor\": \"left\", \"font\": {\"size\": 12}, \"y\": \"Decision Sciences \", \"yanchor\": \"center\", \"x\": 41078, \"text\": \"41078\"}, {\"showarrow\": false, \"xanchor\": \"left\", \"font\": {\"size\": 12}, \"y\": \"Medicine \", \"yanchor\": \"center\", \"x\": 53751, \"text\": \"53751\"}, {\"showarrow\": false, \"xanchor\": \"left\", \"font\": {\"size\": 12}, \"y\": \"Social Sciences \", \"yanchor\": \"center\", \"x\": 58246, \"text\": \"58246\"}, {\"showarrow\": false, \"xanchor\": \"left\", \"font\": {\"size\": 12}, \"y\": \"Biochemistry, Genetics and Molecular Biology \", \"yanchor\": \"center\", \"x\": 105456, \"text\": \"105456\"}], \"font\": {\"family\": \"Droid Serif\"}}, {\"showLink\": true, \"linkText\": \"Export to plot.ly\"})});</script>"
      ],
      "text/plain": [
       "<IPython.core.display.HTML object>"
      ]
     },
     "metadata": {},
     "output_type": "display_data"
    }
   ],
   "source": [
    "x_print = pub_subjects_sorted[\"publications\"].head(24)\n",
    "y_print = pub_subjects_sorted[\"topics\"].head(24)\n",
    "\n",
    "data = [go.Bar(\n",
    "    x = x_print,\n",
    "    y = y_print,\n",
    "    text = str(y_print),\n",
    "    orientation = \"h\",\n",
    "    marker = dict(\n",
    "        color = \"rgb(2, 184, 117)\") \n",
    "        #looks like plot.ly just updated custom colors as a pro feature. \n",
    "        #If you want to save your plot in the cloud, remove this line and use basic colors.\n",
    "        )\n",
    "       ]\n",
    "layout = go.Layout(\n",
    "    title = \"Number of publications on AI applied to different subjects\",\n",
    "    font = dict(family = \"Droid Serif\"),\n",
    "    annotations=[dict(\n",
    "            x=xi,\n",
    "            y=yi,\n",
    "            text=str(xi),\n",
    "            xanchor='left',\n",
    "            yanchor='center',\n",
    "            showarrow=False,\n",
    "            font = dict(size = 12),\n",
    "        ) for xi, yi in zip(x_print, y_print)\n",
    "            ],\n",
    "    xaxis = dict(\n",
    "        title = \"publications\",\n",
    "        anchor = \"free\",\n",
    "        position = 1,\n",
    "        showgrid = False,\n",
    "        showticklabels = False,\n",
    "    )\n",
    "    )\n",
    "fig = go.Figure(data = data, layout = layout)\n",
    "iplot(fig)"
   ]
  },
  {
   "cell_type": "markdown",
   "metadata": {},
   "source": [
    "# Create timeline dataframe"
   ]
  },
  {
   "cell_type": "code",
   "execution_count": 140,
   "metadata": {
    "collapsed": true
   },
   "outputs": [],
   "source": [
    "#List of topics I chose\n",
    "topics = [\"Artificial Intelligence\", \"Deep Learning\", \"Support Vector Machine\", \"Neural Networks\",\n",
    "          \"Clustering\", \"Data Mining\", \"Speech recognition\", \"Image recognition\", \"Recommender System\"]"
   ]
  },
  {
   "cell_type": "code",
   "execution_count": 12,
   "metadata": {
    "collapsed": true
   },
   "outputs": [],
   "source": [
    "timelines = pd.DataFrame(index = pd.Series(range(1950, 2017)))\n",
    "for topic in topics:\n",
    "    timelines[topic] = pub_timeline(topic + \" Artificial Intelligence\", \"\", 1950, 2017)"
   ]
  },
  {
   "cell_type": "markdown",
   "metadata": {},
   "source": [
    "## Export/Import dataframe"
   ]
  },
  {
   "cell_type": "code",
   "execution_count": 257,
   "metadata": {
    "collapsed": false
   },
   "outputs": [],
   "source": [
    "#timelines.to_csv(path + \"timelines.csv\")\n",
    "timelines = pd.read_csv(path + \"timelines.csv\", index_col = 0)"
   ]
  },
  {
   "cell_type": "code",
   "execution_count": null,
   "metadata": {
    "collapsed": false
   },
   "outputs": [],
   "source": [
    "#Since 2016 isn't finished, it's misleading because it suggests a decrease in publications\n",
    "timelines.drop(2016, inplace = True)"
   ]
  },
  {
   "cell_type": "code",
   "execution_count": 274,
   "metadata": {
    "collapsed": true
   },
   "outputs": [],
   "source": [
    "#Creates a dataframe with the cumulative amount of publications available for each year\n",
    "timelines_cumul = timelines.cumsum(axis = 0)"
   ]
  },
  {
   "cell_type": "markdown",
   "metadata": {},
   "source": [
    "# Plotting timeline and timeline_cumul dataframe"
   ]
  },
  {
   "cell_type": "code",
   "execution_count": 282,
   "metadata": {
    "collapsed": false
   },
   "outputs": [
    {
     "data": {
      "text/html": [
       "<div id=\"5e7e00d4-72a6-4381-9abe-b17edf74057d\" style=\"height: 525px; width: 100%;\" class=\"plotly-graph-div\"></div><script type=\"text/javascript\">require([\"plotly\"], function(Plotly) { window.PLOTLYENV=window.PLOTLYENV || {};window.PLOTLYENV.BASE_URL=\"https://plot.ly\";Plotly.newPlot(\"5e7e00d4-72a6-4381-9abe-b17edf74057d\", [{\"name\": \"Artificial Intelligence\", \"y\": [0, 1, 0, 0, 0, 2, 0, 0, 0, 1, 1, 7, 5, 6, 7, 9, 22, 6, 18, 37, 93, 110, 129, 130, 145, 240, 253, 247, 325, 384, 454, 524, 549, 1238, 1628, 2403, 3534, 3984, 4348, 4813, 3999, 3922, 4081, 4725, 5380, 9322, 11919, 13561, 14140, 15121, 17387, 22682, 26331, 33499, 42613, 50486, 62621, 71904, 76434, 87010, 92246, 99544, 102287, 105831, 109629, 110165], \"x\": [1950, 1951, 1952, 1953, 1954, 1955, 1956, 1957, 1958, 1959, 1960, 1961, 1962, 1963, 1964, 1965, 1966, 1967, 1968, 1969, 1970, 1971, 1972, 1973, 1974, 1975, 1976, 1977, 1978, 1979, 1980, 1981, 1982, 1983, 1984, 1985, 1986, 1987, 1988, 1989, 1990, 1991, 1992, 1993, 1994, 1995, 1996, 1997, 1998, 1999, 2000, 2001, 2002, 2003, 2004, 2005, 2006, 2007, 2008, 2009, 2010, 2011, 2012, 2013, 2014, 2015], \"type\": \"scatter\"}, {\"name\": \"Deep Learning\", \"y\": [0, 0, 0, 0, 0, 0, 0, 0, 0, 0, 0, 0, 0, 0, 0, 0, 0, 0, 0, 0, 0, 0, 1, 0, 0, 2, 0, 3, 2, 33, 27, 0, 0, 4, 23, 7, 8, 12, 9, 25, 24, 43, 41, 48, 44, 53, 79, 82, 70, 68, 86, 112, 112, 156, 181, 285, 405, 498, 556, 709, 935, 1118, 1341, 1742, 2730, 4414], \"x\": [1950, 1951, 1952, 1953, 1954, 1955, 1956, 1957, 1958, 1959, 1960, 1961, 1962, 1963, 1964, 1965, 1966, 1967, 1968, 1969, 1970, 1971, 1972, 1973, 1974, 1975, 1976, 1977, 1978, 1979, 1980, 1981, 1982, 1983, 1984, 1985, 1986, 1987, 1988, 1989, 1990, 1991, 1992, 1993, 1994, 1995, 1996, 1997, 1998, 1999, 2000, 2001, 2002, 2003, 2004, 2005, 2006, 2007, 2008, 2009, 2010, 2011, 2012, 2013, 2014, 2015], \"type\": \"scatter\"}, {\"name\": \"Support Vector Machine\", \"y\": [0, 0, 0, 0, 0, 0, 0, 0, 0, 0, 0, 0, 0, 0, 0, 0, 0, 0, 0, 0, 0, 0, 0, 1, 0, 0, 0, 0, 1, 0, 0, 1, 0, 3, 1, 6, 6, 4, 4, 10, 10, 9, 7, 14, 15, 22, 33, 57, 59, 89, 151, 377, 614, 962, 1527, 2329, 3149, 4003, 4529, 5638, 6304, 7153, 8003, 9140, 10654, 11511], \"x\": [1950, 1951, 1952, 1953, 1954, 1955, 1956, 1957, 1958, 1959, 1960, 1961, 1962, 1963, 1964, 1965, 1966, 1967, 1968, 1969, 1970, 1971, 1972, 1973, 1974, 1975, 1976, 1977, 1978, 1979, 1980, 1981, 1982, 1983, 1984, 1985, 1986, 1987, 1988, 1989, 1990, 1991, 1992, 1993, 1994, 1995, 1996, 1997, 1998, 1999, 2000, 2001, 2002, 2003, 2004, 2005, 2006, 2007, 2008, 2009, 2010, 2011, 2012, 2013, 2014, 2015], \"type\": \"scatter\"}, {\"name\": \"Neural Networks\", \"y\": [0, 0, 0, 0, 0, 2, 0, 0, 0, 0, 0, 0, 0, 0, 0, 0, 0, 0, 0, 1, 4, 2, 3, 3, 2, 4, 4, 0, 2, 55, 63, 5, 5, 54, 41, 36, 36, 142, 278, 363, 426, 467, 611, 1021, 1188, 1496, 2023, 2764, 2324, 2659, 2819, 4010, 4820, 5787, 7606, 9399, 11696, 13538, 15294, 17344, 18288, 19390, 20897, 22119, 24575, 26012], \"x\": [1950, 1951, 1952, 1953, 1954, 1955, 1956, 1957, 1958, 1959, 1960, 1961, 1962, 1963, 1964, 1965, 1966, 1967, 1968, 1969, 1970, 1971, 1972, 1973, 1974, 1975, 1976, 1977, 1978, 1979, 1980, 1981, 1982, 1983, 1984, 1985, 1986, 1987, 1988, 1989, 1990, 1991, 1992, 1993, 1994, 1995, 1996, 1997, 1998, 1999, 2000, 2001, 2002, 2003, 2004, 2005, 2006, 2007, 2008, 2009, 2010, 2011, 2012, 2013, 2014, 2015], \"type\": \"scatter\"}, {\"name\": \"Clustering\", \"y\": [0, 0, 0, 0, 0, 0, 0, 0, 0, 0, 0, 0, 0, 0, 0, 0, 0, 0, 0, 0, 4, 2, 3, 3, 4, 9, 11, 3, 8, 14, 13, 16, 16, 41, 23, 29, 47, 61, 74, 105, 103, 130, 144, 146, 165, 301, 432, 586, 555, 623, 799, 1234, 1589, 2196, 3016, 3970, 5293, 6546, 7120, 8577, 10035, 10855, 11810, 12974, 14069, 15126], \"x\": [1950, 1951, 1952, 1953, 1954, 1955, 1956, 1957, 1958, 1959, 1960, 1961, 1962, 1963, 1964, 1965, 1966, 1967, 1968, 1969, 1970, 1971, 1972, 1973, 1974, 1975, 1976, 1977, 1978, 1979, 1980, 1981, 1982, 1983, 1984, 1985, 1986, 1987, 1988, 1989, 1990, 1991, 1992, 1993, 1994, 1995, 1996, 1997, 1998, 1999, 2000, 2001, 2002, 2003, 2004, 2005, 2006, 2007, 2008, 2009, 2010, 2011, 2012, 2013, 2014, 2015], \"type\": \"scatter\"}, {\"name\": \"Data Mining\", \"y\": [0, 0, 0, 0, 0, 0, 0, 0, 0, 0, 0, 0, 0, 0, 0, 0, 0, 0, 0, 0, 1, 0, 0, 0, 0, 0, 0, 0, 1, 1, 0, 0, 0, 1, 1, 1, 5, 6, 11, 5, 2, 11, 9, 20, 22, 76, 137, 370, 467, 859, 1169, 1563, 2155, 3145, 4213, 5697, 7231, 8444, 9670, 11853, 13759, 15329, 16927, 18935, 21158, 23193], \"x\": [1950, 1951, 1952, 1953, 1954, 1955, 1956, 1957, 1958, 1959, 1960, 1961, 1962, 1963, 1964, 1965, 1966, 1967, 1968, 1969, 1970, 1971, 1972, 1973, 1974, 1975, 1976, 1977, 1978, 1979, 1980, 1981, 1982, 1983, 1984, 1985, 1986, 1987, 1988, 1989, 1990, 1991, 1992, 1993, 1994, 1995, 1996, 1997, 1998, 1999, 2000, 2001, 2002, 2003, 2004, 2005, 2006, 2007, 2008, 2009, 2010, 2011, 2012, 2013, 2014, 2015], \"type\": \"scatter\"}, {\"name\": \"Speech recognition\", \"y\": [0, 0, 0, 0, 0, 0, 0, 0, 0, 0, 0, 0, 0, 0, 0, 0, 0, 0, 0, 0, 3, 5, 5, 3, 5, 13, 20, 21, 24, 45, 138, 29, 26, 95, 71, 72, 96, 74, 183, 200, 117, 177, 147, 177, 206, 239, 360, 518, 437, 479, 614, 700, 973, 1267, 1680, 2141, 2565, 2949, 3288, 3777, 4170, 4423, 4536, 5133, 5562, 5845], \"x\": [1950, 1951, 1952, 1953, 1954, 1955, 1956, 1957, 1958, 1959, 1960, 1961, 1962, 1963, 1964, 1965, 1966, 1967, 1968, 1969, 1970, 1971, 1972, 1973, 1974, 1975, 1976, 1977, 1978, 1979, 1980, 1981, 1982, 1983, 1984, 1985, 1986, 1987, 1988, 1989, 1990, 1991, 1992, 1993, 1994, 1995, 1996, 1997, 1998, 1999, 2000, 2001, 2002, 2003, 2004, 2005, 2006, 2007, 2008, 2009, 2010, 2011, 2012, 2013, 2014, 2015], \"type\": \"scatter\"}, {\"name\": \"Image recognition\", \"y\": [0, 0, 0, 0, 0, 0, 0, 0, 0, 0, 0, 0, 0, 0, 0, 0, 1, 1, 3, 0, 4, 9, 15, 10, 15, 31, 35, 27, 31, 101, 157, 136, 81, 135, 183, 155, 206, 290, 428, 499, 380, 371, 396, 401, 506, 846, 1209, 1693, 1401, 1484, 1811, 2472, 2921, 3704, 4914, 6235, 7715, 9330, 10732, 11642, 12404, 13831, 14705, 16579, 16891, 18124], \"x\": [1950, 1951, 1952, 1953, 1954, 1955, 1956, 1957, 1958, 1959, 1960, 1961, 1962, 1963, 1964, 1965, 1966, 1967, 1968, 1969, 1970, 1971, 1972, 1973, 1974, 1975, 1976, 1977, 1978, 1979, 1980, 1981, 1982, 1983, 1984, 1985, 1986, 1987, 1988, 1989, 1990, 1991, 1992, 1993, 1994, 1995, 1996, 1997, 1998, 1999, 2000, 2001, 2002, 2003, 2004, 2005, 2006, 2007, 2008, 2009, 2010, 2011, 2012, 2013, 2014, 2015], \"type\": \"scatter\"}, {\"name\": \"Recommender System\", \"y\": [0, 0, 0, 0, 0, 0, 0, 0, 0, 0, 0, 0, 0, 0, 0, 0, 0, 0, 0, 0, 0, 0, 0, 0, 0, 0, 0, 0, 0, 0, 0, 0, 0, 0, 0, 0, 1, 0, 0, 0, 0, 0, 0, 0, 0, 0, 0, 1, 7, 19, 47, 92, 156, 204, 332, 421, 488, 716, 782, 1045, 1358, 1628, 1893, 2244, 2512, 2730], \"x\": [1950, 1951, 1952, 1953, 1954, 1955, 1956, 1957, 1958, 1959, 1960, 1961, 1962, 1963, 1964, 1965, 1966, 1967, 1968, 1969, 1970, 1971, 1972, 1973, 1974, 1975, 1976, 1977, 1978, 1979, 1980, 1981, 1982, 1983, 1984, 1985, 1986, 1987, 1988, 1989, 1990, 1991, 1992, 1993, 1994, 1995, 1996, 1997, 1998, 1999, 2000, 2001, 2002, 2003, 2004, 2005, 2006, 2007, 2008, 2009, 2010, 2011, 2012, 2013, 2014, 2015], \"type\": \"scatter\"}], {\"xaxis\": {\"title\": \"Year\"}, \"title\": \"Evolution of scientific publications on different AI topics\", \"font\": {\"family\": \"Droid Serif\"}, \"yaxis\": {\"title\": \"Number of publications\"}}, {\"showLink\": true, \"linkText\": \"Export to plot.ly\"})});</script>"
      ],
      "text/plain": [
       "<IPython.core.display.HTML object>"
      ]
     },
     "metadata": {},
     "output_type": "display_data"
    }
   ],
   "source": [
    "data = []\n",
    "for topic in topics:\n",
    "    data.append(go.Scatter(\n",
    "        x = timelines.index,\n",
    "        y = timelines[topic],\n",
    "        name = topic\n",
    "    ))\n",
    "layout = go.Layout(\n",
    "    title = \"Evolution of scientific publications on different AI topics\",\n",
    "    font = dict(family = \"Droid Serif\"),\n",
    "    yaxis = dict(title = \"Number of publications\"),\n",
    "    xaxis = dict(title = \"Year\")\n",
    "    )\n",
    "\n",
    "fig = go.Figure(data = data, layout = layout)\n",
    "iplot(fig)"
   ]
  },
  {
   "cell_type": "code",
   "execution_count": 264,
   "metadata": {
    "collapsed": false
   },
   "outputs": [
    {
     "data": {
      "text/html": [
       "<div id=\"784bb1d6-72e4-435b-acef-e90d862ae062\" style=\"height: 525px; width: 100%;\" class=\"plotly-graph-div\"></div><script type=\"text/javascript\">require([\"plotly\"], function(Plotly) { window.PLOTLYENV=window.PLOTLYENV || {};window.PLOTLYENV.BASE_URL=\"https://plot.ly\";Plotly.newPlot(\"784bb1d6-72e4-435b-acef-e90d862ae062\", [{\"name\": \"Artificial Intelligence\", \"y\": [0, 1, 1, 1, 1, 3, 3, 3, 3, 4, 5, 12, 17, 23, 30, 39, 61, 67, 85, 122, 215, 325, 454, 584, 729, 969, 1222, 1469, 1794, 2178, 2632, 3156, 3705, 4943, 6571, 8974, 12508, 16492, 20840, 25653, 29652, 33574, 37655, 42380, 47760, 57082, 69001, 82562, 96702, 111823, 129210, 151892, 178223, 211722, 254335, 304821, 367442, 439346, 515780, 602790, 695036, 794580, 896867, 1002698, 1112327, 1222492], \"x\": [1950, 1951, 1952, 1953, 1954, 1955, 1956, 1957, 1958, 1959, 1960, 1961, 1962, 1963, 1964, 1965, 1966, 1967, 1968, 1969, 1970, 1971, 1972, 1973, 1974, 1975, 1976, 1977, 1978, 1979, 1980, 1981, 1982, 1983, 1984, 1985, 1986, 1987, 1988, 1989, 1990, 1991, 1992, 1993, 1994, 1995, 1996, 1997, 1998, 1999, 2000, 2001, 2002, 2003, 2004, 2005, 2006, 2007, 2008, 2009, 2010, 2011, 2012, 2013, 2014, 2015], \"type\": \"scatter\"}, {\"name\": \"Deep Learning\", \"y\": [0, 0, 0, 0, 0, 0, 0, 0, 0, 0, 0, 0, 0, 0, 0, 0, 0, 0, 0, 0, 0, 0, 1, 1, 1, 3, 3, 6, 8, 41, 68, 68, 68, 72, 95, 102, 110, 122, 131, 156, 180, 223, 264, 312, 356, 409, 488, 570, 640, 708, 794, 906, 1018, 1174, 1355, 1640, 2045, 2543, 3099, 3808, 4743, 5861, 7202, 8944, 11674, 16088], \"x\": [1950, 1951, 1952, 1953, 1954, 1955, 1956, 1957, 1958, 1959, 1960, 1961, 1962, 1963, 1964, 1965, 1966, 1967, 1968, 1969, 1970, 1971, 1972, 1973, 1974, 1975, 1976, 1977, 1978, 1979, 1980, 1981, 1982, 1983, 1984, 1985, 1986, 1987, 1988, 1989, 1990, 1991, 1992, 1993, 1994, 1995, 1996, 1997, 1998, 1999, 2000, 2001, 2002, 2003, 2004, 2005, 2006, 2007, 2008, 2009, 2010, 2011, 2012, 2013, 2014, 2015], \"type\": \"scatter\"}, {\"name\": \"Support Vector Machine\", \"y\": [0, 0, 0, 0, 0, 0, 0, 0, 0, 0, 0, 0, 0, 0, 0, 0, 0, 0, 0, 0, 0, 0, 0, 1, 1, 1, 1, 1, 2, 2, 2, 3, 3, 6, 7, 13, 19, 23, 27, 37, 47, 56, 63, 77, 92, 114, 147, 204, 263, 352, 503, 880, 1494, 2456, 3983, 6312, 9461, 13464, 17993, 23631, 29935, 37088, 45091, 54231, 64885, 76396], \"x\": [1950, 1951, 1952, 1953, 1954, 1955, 1956, 1957, 1958, 1959, 1960, 1961, 1962, 1963, 1964, 1965, 1966, 1967, 1968, 1969, 1970, 1971, 1972, 1973, 1974, 1975, 1976, 1977, 1978, 1979, 1980, 1981, 1982, 1983, 1984, 1985, 1986, 1987, 1988, 1989, 1990, 1991, 1992, 1993, 1994, 1995, 1996, 1997, 1998, 1999, 2000, 2001, 2002, 2003, 2004, 2005, 2006, 2007, 2008, 2009, 2010, 2011, 2012, 2013, 2014, 2015], \"type\": \"scatter\"}, {\"name\": \"Neural Networks\", \"y\": [0, 0, 0, 0, 0, 2, 2, 2, 2, 2, 2, 2, 2, 2, 2, 2, 2, 2, 2, 3, 7, 9, 12, 15, 17, 21, 25, 25, 27, 82, 145, 150, 155, 209, 250, 286, 322, 464, 742, 1105, 1531, 1998, 2609, 3630, 4818, 6314, 8337, 11101, 13425, 16084, 18903, 22913, 27733, 33520, 41126, 50525, 62221, 75759, 91053, 108397, 126685, 146075, 166972, 189091, 213666, 239678], \"x\": [1950, 1951, 1952, 1953, 1954, 1955, 1956, 1957, 1958, 1959, 1960, 1961, 1962, 1963, 1964, 1965, 1966, 1967, 1968, 1969, 1970, 1971, 1972, 1973, 1974, 1975, 1976, 1977, 1978, 1979, 1980, 1981, 1982, 1983, 1984, 1985, 1986, 1987, 1988, 1989, 1990, 1991, 1992, 1993, 1994, 1995, 1996, 1997, 1998, 1999, 2000, 2001, 2002, 2003, 2004, 2005, 2006, 2007, 2008, 2009, 2010, 2011, 2012, 2013, 2014, 2015], \"type\": \"scatter\"}, {\"name\": \"Clustering\", \"y\": [0, 0, 0, 0, 0, 0, 0, 0, 0, 0, 0, 0, 0, 0, 0, 0, 0, 0, 0, 0, 4, 6, 9, 12, 16, 25, 36, 39, 47, 61, 74, 90, 106, 147, 170, 199, 246, 307, 381, 486, 589, 719, 863, 1009, 1174, 1475, 1907, 2493, 3048, 3671, 4470, 5704, 7293, 9489, 12505, 16475, 21768, 28314, 35434, 44011, 54046, 64901, 76711, 89685, 103754, 118880], \"x\": [1950, 1951, 1952, 1953, 1954, 1955, 1956, 1957, 1958, 1959, 1960, 1961, 1962, 1963, 1964, 1965, 1966, 1967, 1968, 1969, 1970, 1971, 1972, 1973, 1974, 1975, 1976, 1977, 1978, 1979, 1980, 1981, 1982, 1983, 1984, 1985, 1986, 1987, 1988, 1989, 1990, 1991, 1992, 1993, 1994, 1995, 1996, 1997, 1998, 1999, 2000, 2001, 2002, 2003, 2004, 2005, 2006, 2007, 2008, 2009, 2010, 2011, 2012, 2013, 2014, 2015], \"type\": \"scatter\"}, {\"name\": \"Data Mining\", \"y\": [0, 0, 0, 0, 0, 0, 0, 0, 0, 0, 0, 0, 0, 0, 0, 0, 0, 0, 0, 0, 1, 1, 1, 1, 1, 1, 1, 1, 2, 3, 3, 3, 3, 4, 5, 6, 11, 17, 28, 33, 35, 46, 55, 75, 97, 173, 310, 680, 1147, 2006, 3175, 4738, 6893, 10038, 14251, 19948, 27179, 35623, 45293, 57146, 70905, 86234, 103161, 122096, 143254, 166447], \"x\": [1950, 1951, 1952, 1953, 1954, 1955, 1956, 1957, 1958, 1959, 1960, 1961, 1962, 1963, 1964, 1965, 1966, 1967, 1968, 1969, 1970, 1971, 1972, 1973, 1974, 1975, 1976, 1977, 1978, 1979, 1980, 1981, 1982, 1983, 1984, 1985, 1986, 1987, 1988, 1989, 1990, 1991, 1992, 1993, 1994, 1995, 1996, 1997, 1998, 1999, 2000, 2001, 2002, 2003, 2004, 2005, 2006, 2007, 2008, 2009, 2010, 2011, 2012, 2013, 2014, 2015], \"type\": \"scatter\"}, {\"name\": \"Speech recognition\", \"y\": [0, 0, 0, 0, 0, 0, 0, 0, 0, 0, 0, 0, 0, 0, 0, 0, 0, 0, 0, 0, 3, 8, 13, 16, 21, 34, 54, 75, 99, 144, 282, 311, 337, 432, 503, 575, 671, 745, 928, 1128, 1245, 1422, 1569, 1746, 1952, 2191, 2551, 3069, 3506, 3985, 4599, 5299, 6272, 7539, 9219, 11360, 13925, 16874, 20162, 23939, 28109, 32532, 37068, 42201, 47763, 53608], \"x\": [1950, 1951, 1952, 1953, 1954, 1955, 1956, 1957, 1958, 1959, 1960, 1961, 1962, 1963, 1964, 1965, 1966, 1967, 1968, 1969, 1970, 1971, 1972, 1973, 1974, 1975, 1976, 1977, 1978, 1979, 1980, 1981, 1982, 1983, 1984, 1985, 1986, 1987, 1988, 1989, 1990, 1991, 1992, 1993, 1994, 1995, 1996, 1997, 1998, 1999, 2000, 2001, 2002, 2003, 2004, 2005, 2006, 2007, 2008, 2009, 2010, 2011, 2012, 2013, 2014, 2015], \"type\": \"scatter\"}, {\"name\": \"Image recognition\", \"y\": [0, 0, 0, 0, 0, 0, 0, 0, 0, 0, 0, 0, 0, 0, 0, 0, 1, 2, 5, 5, 9, 18, 33, 43, 58, 89, 124, 151, 182, 283, 440, 576, 657, 792, 975, 1130, 1336, 1626, 2054, 2553, 2933, 3304, 3700, 4101, 4607, 5453, 6662, 8355, 9756, 11240, 13051, 15523, 18444, 22148, 27062, 33297, 41012, 50342, 61074, 72716, 85120, 98951, 113656, 130235, 147126, 165250], \"x\": [1950, 1951, 1952, 1953, 1954, 1955, 1956, 1957, 1958, 1959, 1960, 1961, 1962, 1963, 1964, 1965, 1966, 1967, 1968, 1969, 1970, 1971, 1972, 1973, 1974, 1975, 1976, 1977, 1978, 1979, 1980, 1981, 1982, 1983, 1984, 1985, 1986, 1987, 1988, 1989, 1990, 1991, 1992, 1993, 1994, 1995, 1996, 1997, 1998, 1999, 2000, 2001, 2002, 2003, 2004, 2005, 2006, 2007, 2008, 2009, 2010, 2011, 2012, 2013, 2014, 2015], \"type\": \"scatter\"}, {\"name\": \"Recommender System\", \"y\": [0, 0, 0, 0, 0, 0, 0, 0, 0, 0, 0, 0, 0, 0, 0, 0, 0, 0, 0, 0, 0, 0, 0, 0, 0, 0, 0, 0, 0, 0, 0, 0, 0, 0, 0, 0, 1, 1, 1, 1, 1, 1, 1, 1, 1, 1, 1, 2, 9, 28, 75, 167, 323, 527, 859, 1280, 1768, 2484, 3266, 4311, 5669, 7297, 9190, 11434, 13946, 16676], \"x\": [1950, 1951, 1952, 1953, 1954, 1955, 1956, 1957, 1958, 1959, 1960, 1961, 1962, 1963, 1964, 1965, 1966, 1967, 1968, 1969, 1970, 1971, 1972, 1973, 1974, 1975, 1976, 1977, 1978, 1979, 1980, 1981, 1982, 1983, 1984, 1985, 1986, 1987, 1988, 1989, 1990, 1991, 1992, 1993, 1994, 1995, 1996, 1997, 1998, 1999, 2000, 2001, 2002, 2003, 2004, 2005, 2006, 2007, 2008, 2009, 2010, 2011, 2012, 2013, 2014, 2015], \"type\": \"scatter\"}], {\"xaxis\": {\"title\": \"Year\"}, \"title\": \"Cumulative amount of scientific publications on different AI topics\", \"font\": {\"family\": \"Droid Serif\"}, \"yaxis\": {\"title\": \"Number of publications\"}}, {\"showLink\": true, \"linkText\": \"Export to plot.ly\"})});</script>"
      ],
      "text/plain": [
       "<IPython.core.display.HTML object>"
      ]
     },
     "metadata": {},
     "output_type": "display_data"
    }
   ],
   "source": [
    "data = []\n",
    "for topic in topics:\n",
    "    data.append(go.Scatter(\n",
    "        x = timelines_cumul.index,\n",
    "        y = timelines_cumul[topic],\n",
    "        name = topic\n",
    "    ))\n",
    "layout = go.Layout(\n",
    "    title = \"Cumulative amount of scientific publications on different AI topics\",\n",
    "    font = dict(family = \"Droid Serif\"),\n",
    "    yaxis = dict(title = \"Number of publications\"),\n",
    "    xaxis = dict(title = \"Year\")\n",
    "    )\n",
    "\n",
    "fig = go.Figure(data = data, layout = layout)\n",
    "iplot(fig)"
   ]
  },
  {
   "cell_type": "markdown",
   "metadata": {},
   "source": [
    "# Fitting of timeline and timeline_cumul with logistic function\n",
    "\n",
    "To evaluate the trend of research we'll try to see the fit with a logistic function, being often used to illustrate the progress of the diffusion of an innovation through its life cycle [(Wikipedia)](https://en.wikipedia.org/wiki/Logistic_function#In_economics_and_sociology:_diffusion_of_innovations)"
   ]
  },
  {
   "cell_type": "code",
   "execution_count": 251,
   "metadata": {
    "collapsed": false
   },
   "outputs": [
    {
     "name": "stderr",
     "output_type": "stream",
     "text": [
      "/Users/Gianluca/anaconda/lib/python3.5/site-packages/sklearn/utils/validation.py:420: DataConversionWarning:\n",
      "\n",
      "Data with input dtype int64 was converted to float64.\n",
      "\n",
      "/Users/Gianluca/anaconda/lib/python3.5/site-packages/sklearn/utils/validation.py:420: DataConversionWarning:\n",
      "\n",
      "Data with input dtype int64 was converted to float64.\n",
      "\n"
     ]
    }
   ],
   "source": [
    "x = preprocessing.minmax_scale(timelines.loc[1980:, :].index.values)\n",
    "y = preprocessing.minmax_scale(timelines.loc[1980:, \"Artificial Intelligence\"].values)\n",
    "\n",
    "def log_func(x, M, k, x_0):\n",
    "    return M / (1 + np.exp(-k * (x-x_0)))\n",
    "\n",
    "popt, pcov = curve_fit(log_func, x, y)"
   ]
  },
  {
   "cell_type": "code",
   "execution_count": 291,
   "metadata": {
    "collapsed": false
   },
   "outputs": [
    {
     "data": {
      "text/html": [
       "<div id=\"1093b214-cd53-4d54-ab01-f07dbbb54e9c\" style=\"height: 525px; width: 100%;\" class=\"plotly-graph-div\"></div><script type=\"text/javascript\">require([\"plotly\"], function(Plotly) { window.PLOTLYENV=window.PLOTLYENV || {};window.PLOTLYENV.BASE_URL=\"https://plot.ly\";Plotly.newPlot(\"1093b214-cd53-4d54-ab01-f07dbbb54e9c\", [{\"line\": {\"color\": \"rgb(2, 184, 117)\"}, \"name\": \"Logistic function fitting\", \"y\": [88.50732331862419, 119.08946029744016, 160.22484187123564, 215.54393748428473, 289.9170674498681, 389.87048917314104, 524.1361914287434, 704.3735534501963, 946.1079282044856, 1269.935766976732, 1703.043979832758, 2281.075248737472, 3050.328019565413, 4070.1893552296224, 5415.531411257865, 7178.523089274035, 9468.891738345814, 12411.137376452863, 16136.69654060722, 20768.938530471612, 26399.79105115391, 33059.460430102, 40685.28041905203, 49100.69424463425, 58017.13427297303, 67066.22103497347, 75857.31682338195, 84042.64182881387, 91368.01396427819, 97695.0391591723, 102994.3042252392, 107319.63551628009, 110776.24128417965, 113492.26771067419, 115598.15599551312, 117214.17417858525, 118444.46322383068, 119375.44047313866, 120076.70215968872, 120603.10797794127, 120997.23337876222, 121291.74621648654, 121511.50348114147, 121675.30257058806, 121797.29384938504, 121888.09360710326, 121955.64682177578, 122005.88832022656, 122043.24527559135, 122071.01683716636], \"x\": [1980.0, 1981.0714285714287, 1982.142857142857, 1983.2142857142858, 1984.2857142857142, 1985.357142857143, 1986.4285714285713, 1987.5, 1988.5714285714287, 1989.642857142857, 1990.7142857142858, 1991.7857142857142, 1992.857142857143, 1993.9285714285713, 1995.0, 1996.0714285714287, 1997.142857142857, 1998.2142857142858, 1999.2857142857142, 2000.357142857143, 2001.4285714285713, 2002.5, 2003.5714285714287, 2004.642857142857, 2005.7142857142858, 2006.7857142857142, 2007.857142857143, 2008.9285714285713, 2010.0, 2011.0714285714287, 2012.142857142857, 2013.2142857142858, 2014.2857142857142, 2015.357142857143, 2016.4285714285713, 2017.5, 2018.5714285714287, 2019.642857142857, 2020.7142857142858, 2021.7857142857142, 2022.857142857143, 2023.9285714285713, 2025.0, 2026.0714285714287, 2027.142857142857, 2028.2142857142858, 2029.2857142857142, 2030.357142857143, 2031.4285714285713, 2032.5], \"type\": \"scatter\"}, {\"line\": {\"color\": \"rgb(0, 0, 0)\"}, \"name\": \"AI research normalized\", \"y\": [0.0, 70.2896701333504, 95.39312375240407, 787.244305493524, 1178.8581819507615, 1957.065244141426, 3092.7454858674155, 3544.6076510103817, 3910.1139357038037, 4377.0381730182025, 3559.669723181814, 3482.3510860351284, 3642.00905105231, 4288.674016279134, 4946.3845010983405, 8904.697067750727, 11512.443829698026, 13161.238663397471, 13742.634649214755, 14727.694169226423, 17003.07120525745, 22319.98268177302, 25984.0827720101, 33181.744993665176, 42333.4600450274, 50239.039658739784, 62424.25604542845, 71745.67044325547, 76294.416239028, 86914.18125803248, 92171.84858400708, 99500.04876448124, 102254.39969556381, 105813.06528060086, 109626.78195440749, 110165.0], \"x\": [1980.0, 1981.0000000000002, 1982.0, 1983.0, 1984.0, 1985.0, 1986.0, 1987.0, 1988.0, 1989.0, 1990.0, 1991.0, 1992.0, 1993.0, 1994.0, 1995.0, 1996.0, 1997.0, 1998.0, 1999.0, 2000.0, 2001.0, 2002.0, 2003.0, 2004.0, 2005.0, 2006.0, 2007.0, 2008.0, 2009.0, 2010.0, 2011.0, 2012.0, 2013.0, 2014.0000000000002, 2015.0], \"type\": \"scatter\"}], {\"xaxis\": {\"title\": \"Year\"}, \"title\": \"AI research trends VS logistic function fitting\", \"font\": {\"family\": \"Droid Serif\"}, \"yaxis\": {\"title\": \"Number of publications per year\"}}, {\"showLink\": true, \"linkText\": \"Export to plot.ly\"})});</script>"
      ],
      "text/plain": [
       "<IPython.core.display.HTML object>"
      ]
     },
     "metadata": {},
     "output_type": "display_data"
    }
   ],
   "source": [
    "data = [\n",
    "    go.Scatter(\n",
    "        x = np.linspace(0,1.5)*(2015-1980) + 1980,\n",
    "        y = log_func(np.linspace(0, 1.5), *popt) * max(timelines.loc[1980:,\"Artificial Intelligence\"].values),\n",
    "        name = \"Logistic function fitting\",\n",
    "        line =dict(color = \"rgb(2, 184, 117)\")\n",
    "        ),\n",
    "    go.Scatter(\n",
    "        x = x * (2015-1980) + 1980,\n",
    "        y = y* max(timelines.loc[1980:,\"Artificial Intelligence\"].values),\n",
    "        name = \"AI research normalized\",\n",
    "        line = dict(color = \"rgb(0, 0, 0)\")\n",
    "    )\n",
    "]\n",
    "\n",
    "layout = go.Layout(\n",
    "    title = \"AI research trends VS logistic function fitting\",\n",
    "    font = dict(family = \"Droid Serif\"),\n",
    "    yaxis = dict(\n",
    "    title = \"Number of publications per year\"\n",
    "    ),\n",
    "    xaxis = dict(\n",
    "    title = \"Year\"\n",
    "    )\n",
    ")\n",
    "\n",
    "fig = go.Figure(data = data, layout = layout)\n",
    "iplot(fig)"
   ]
  },
  {
   "cell_type": "code",
   "execution_count": 244,
   "metadata": {
    "collapsed": false
   },
   "outputs": [
    {
     "name": "stderr",
     "output_type": "stream",
     "text": [
      "/Users/Gianluca/anaconda/lib/python3.5/site-packages/sklearn/utils/validation.py:420: DataConversionWarning:\n",
      "\n",
      "Data with input dtype int64 was converted to float64.\n",
      "\n",
      "/Users/Gianluca/anaconda/lib/python3.5/site-packages/sklearn/utils/validation.py:420: DataConversionWarning:\n",
      "\n",
      "Data with input dtype int64 was converted to float64.\n",
      "\n"
     ]
    }
   ],
   "source": [
    "x_cumul = preprocessing.minmax_scale(timelines_cumul.loc[1980:,:].index.values)\n",
    "y_cumul = preprocessing.minmax_scale(timelines_cumul.loc[1980:,\"Artificial Intelligence\"].values)\n",
    "\n",
    "popt_cumul, pcov_cumul = curve_fit(log_func, x_cumul, y_cumul)"
   ]
  },
  {
   "cell_type": "code",
   "execution_count": 288,
   "metadata": {
    "collapsed": false
   },
   "outputs": [
    {
     "data": {
      "text/html": [
       "<div id=\"c47010ef-9f94-4dc0-827b-3c96c3e55f5a\" style=\"height: 525px; width: 100%;\" class=\"plotly-graph-div\"></div><script type=\"text/javascript\">require([\"plotly\"], function(Plotly) { window.PLOTLYENV=window.PLOTLYENV || {};window.PLOTLYENV.BASE_URL=\"https://plot.ly\";Plotly.newPlot(\"c47010ef-9f94-4dc0-827b-3c96c3e55f5a\", [{\"line\": {\"color\": \"rgb(2, 184, 117)\"}, \"name\": \"Logistic function fitting\", \"y\": [2052.9079718622875, 2692.5439120554347, 3531.117184906577, 4630.243352243256, 6070.436961648603, 7956.7757200153455, 10426.16707720769, 13656.601730174842, 17878.81949791122, 23390.814889731046, 30575.529065342464, 39921.83935809484, 52048.453307231124, 67729.37500941198, 87918.01966832709, 113764.57365255282, 146617.69599515968, 187997.34864121003, 239521.44174154627, 302767.4874743111, 379055.7180347851, 469157.26818729733, 572962.989091756, 689190.0796540128, 815236.295902026, 947285.9969032098, 1080708.1170373172, 1210677.380376298, 1332851.5928531871, 1443911.4717978174, 1541833.0152789163, 1625873.7849612625, 1696348.4898092893, 1754307.0453740642, 1801213.5632992587, 1838685.0074288307, 1868309.4052662216, 1891537.9912814947, 1909634.2870823725, 1923661.4151167292, 1934491.9772775683, 1942829.2210716465, 1949232.238186801, 1954140.9941325404, 1957899.0537052806, 1960773.14542819, 1962969.4338573108, 1964646.7387119108, 1965927.0966089978, 1966904.0989564706], \"x\": [1980.0, 1981.2857142857142, 1982.5714285714287, 1983.857142857143, 1985.142857142857, 1986.4285714285713, 1987.7142857142858, 1989.0, 1990.2857142857142, 1991.5714285714287, 1992.857142857143, 1994.142857142857, 1995.4285714285713, 1996.7142857142858, 1998.0, 1999.2857142857142, 2000.5714285714287, 2001.857142857143, 2003.142857142857, 2004.4285714285713, 2005.7142857142858, 2007.0, 2008.2857142857142, 2009.5714285714287, 2010.857142857143, 2012.142857142857, 2013.4285714285713, 2014.7142857142858, 2016.0, 2017.2857142857142, 2018.5714285714287, 2019.857142857143, 2021.142857142857, 2022.4285714285713, 2023.7142857142858, 2025.0, 2026.2857142857142, 2027.5714285714287, 2028.857142857143, 2030.142857142857, 2031.4285714285713, 2032.7142857142858, 2034.0, 2035.2857142857142, 2036.5714285714287, 2037.857142857143, 2039.142857142857, 2040.4285714285713, 2041.7142857142858, 2043.0], \"type\": \"scatter\"}, {\"line\": {\"color\": \"rgb(0, 0, 0)\"}, \"name\": \"AI research normalized\", \"y\": [0.0, 494.8259249417567, 1013.2599569895133, 2182.3334208786255, 3719.6933556213353, 5988.90461065004, 9326.146631154179, 13088.334579566312, 17194.256567441804, 21739.28934748889, 25515.642160164625, 29219.282002953885, 33073.0694069373, 37535.001649971266, 42615.46629918244, 51418.45727686765, 62673.85842072414, 75479.8400393027, 88832.5854184562, 103111.71292044915, 119530.67925052991, 140949.84266566145, 165814.84539398472, 197448.76459174027, 237689.2553160591, 285364.41113019944, 344498.9421335921, 412399.6354675846, 484578.1178091843, 566743.7737809061, 653853.9117049086, 747855.7282552945, 844447.8263173507, 944386.6096427535, 1047911.9365996997, 1151943.4213729985, 1222492.0], \"x\": [1980.0, 1980.972222222222, 1981.9444444444443, 1982.9166666666665, 1983.8888888888887, 1984.861111111111, 1985.8333333333333, 1986.8055555555554, 1987.7777777777778, 1988.75, 1989.722222222222, 1990.6944444444443, 1991.6666666666665, 1992.6388888888887, 1993.611111111111, 1994.5833333333333, 1995.5555555555554, 1996.5277777777778, 1997.5, 1998.472222222222, 1999.4444444444443, 2000.4166666666665, 2001.3888888888887, 2002.361111111111, 2003.3333333333333, 2004.3055555555554, 2005.2777777777778, 2006.25, 2007.222222222222, 2008.1944444444443, 2009.1666666666665, 2010.1388888888887, 2011.111111111111, 2012.0833333333333, 2013.0555555555554, 2014.0277777777778, 2015.0], \"type\": \"scatter\"}], {\"xaxis\": {\"title\": \"Year\"}, \"title\": \"Cumulated AI research VS logistic function fitting\", \"font\": {\"family\": \"Droid Serif\"}, \"yaxis\": {\"title\": \"Cumulated Number of publications\"}}, {\"showLink\": true, \"linkText\": \"Export to plot.ly\"})});</script>"
      ],
      "text/plain": [
       "<IPython.core.display.HTML object>"
      ]
     },
     "metadata": {},
     "output_type": "display_data"
    }
   ],
   "source": [
    "data = [\n",
    "    go.Scatter(\n",
    "        x = np.linspace(0,1.8)*(2015-1980) + 1980,\n",
    "        y = log_func(np.linspace(0,1.8), *popt_cumul)*max(timelines_cumul.loc[1980:,\"Artificial Intelligence\"].values),\n",
    "        name = \"Logistic function fitting\",\n",
    "        line = dict(color = \"rgb(2, 184, 117)\")\n",
    "        ),\n",
    "    go.Scatter(\n",
    "        x = x_cumul*(2015-1980) + 1980,\n",
    "        y = y_cumul*max(timelines_cumul.loc[1980:,\"Artificial Intelligence\"].values),\n",
    "        name = \"AI research normalized\",\n",
    "        line = dict(color = \"rgb(0, 0, 0)\")\n",
    "    )\n",
    "]\n",
    "\n",
    "layout = go.Layout(\n",
    "    title = \"Cumulated AI research VS logistic function fitting\",\n",
    "    font = dict(family = \"Droid Serif\"),\n",
    "    yaxis = dict(\n",
    "    title = \"Cumulated Number of publications\"\n",
    "    ),\n",
    "    xaxis = dict(\n",
    "    title = \"Year\"\n",
    "    )\n",
    ")\n",
    "\n",
    "fig = go.Figure(data = data, layout = layout)\n",
    "iplot(fig)"
   ]
  },
  {
   "cell_type": "markdown",
   "metadata": {},
   "source": [
    "# Get most active nations\n",
    "\n",
    "Returns a dataframe with the amount of publications per country"
   ]
  },
  {
   "cell_type": "code",
   "execution_count": 3,
   "metadata": {
    "collapsed": false
   },
   "outputs": [
    {
     "name": "stdout",
     "output_type": "stream",
     "text": [
      "Stopped at 5000\n"
     ]
    }
   ],
   "source": [
    "nations_count = pd.DataFrame()\n",
    "\n",
    "query = \"Artificial+Intelligence\"\n",
    "nations = []\n",
    "n_results = pub_number(query, \"\", \"1950-2017\")\n",
    "\n",
    "for start in range(0,n_results,25):\n",
    "    try:\n",
    "        url = (\"http://api.elsevier.com/content/search/scopus?apiKey=\" + apikey + \n",
    "            \"&query=Artificial+Intelligence+\" + query +\n",
    "            \"&subj=ener\" +\n",
    "            \"&start=\" + str(start))\n",
    "        df = pd.read_json(url)\n",
    "        results = df.loc[\"entry\", \"search-results\"]\n",
    "    except urlreq.HTTPError:\n",
    "        print(\"Stopped at \" + str(start))\n",
    "        break\n",
    "\n",
    "    for i in range(0, len(results)):\n",
    "        if \"affiliation\" in results[i]:\n",
    "            nations.append(results[i][\"affiliation\"][0][\"affiliation-country\"])\n",
    "\n",
    "for nation in pd.Series(nations).unique():\n",
    "    nations_count = nations_count.append({\n",
    "            \"nation\" : nation,\n",
    "            \"publications\" : nations.count(nation)\n",
    "        }, ignore_index = True)\n",
    "    \n",
    "nations_count = nations_count.groupby(\"nation\").sum()\n",
    "nations_count.fillna(0,inplace = True)"
   ]
  },
  {
   "cell_type": "markdown",
   "metadata": {},
   "source": [
    "## Export/Import dataframe"
   ]
  },
  {
   "cell_type": "code",
   "execution_count": 5,
   "metadata": {
    "collapsed": true
   },
   "outputs": [],
   "source": [
    "#nations_count.to_csv(path + \"nations_count.csv\")\n",
    "nations_count.read_csv(path + \"nations_count.csv\")"
   ]
  },
  {
   "cell_type": "code",
   "execution_count": 275,
   "metadata": {
    "collapsed": false
   },
   "outputs": [
    {
     "data": {
      "text/html": [
       "<div>\n",
       "<table border=\"1\" class=\"dataframe\">\n",
       "  <thead>\n",
       "    <tr style=\"text-align: right;\">\n",
       "      <th></th>\n",
       "      <th>publications</th>\n",
       "    </tr>\n",
       "    <tr>\n",
       "      <th>nation</th>\n",
       "      <th></th>\n",
       "    </tr>\n",
       "  </thead>\n",
       "  <tbody>\n",
       "    <tr>\n",
       "      <th>China</th>\n",
       "      <td>783.0</td>\n",
       "    </tr>\n",
       "    <tr>\n",
       "      <th>India</th>\n",
       "      <td>685.0</td>\n",
       "    </tr>\n",
       "    <tr>\n",
       "      <th>United States</th>\n",
       "      <td>436.0</td>\n",
       "    </tr>\n",
       "    <tr>\n",
       "      <th>Iran</th>\n",
       "      <td>403.0</td>\n",
       "    </tr>\n",
       "    <tr>\n",
       "      <th>Malaysia</th>\n",
       "      <td>167.0</td>\n",
       "    </tr>\n",
       "    <tr>\n",
       "      <th>Italy</th>\n",
       "      <td>158.0</td>\n",
       "    </tr>\n",
       "    <tr>\n",
       "      <th>Spain</th>\n",
       "      <td>132.0</td>\n",
       "    </tr>\n",
       "    <tr>\n",
       "      <th>United Kingdom</th>\n",
       "      <td>122.0</td>\n",
       "    </tr>\n",
       "    <tr>\n",
       "      <th>Canada</th>\n",
       "      <td>111.0</td>\n",
       "    </tr>\n",
       "    <tr>\n",
       "      <th>Japan</th>\n",
       "      <td>105.0</td>\n",
       "    </tr>\n",
       "  </tbody>\n",
       "</table>\n",
       "</div>"
      ],
      "text/plain": [
       "                publications\n",
       "nation                      \n",
       "China                  783.0\n",
       "India                  685.0\n",
       "United States          436.0\n",
       "Iran                   403.0\n",
       "Malaysia               167.0\n",
       "Italy                  158.0\n",
       "Spain                  132.0\n",
       "United Kingdom         122.0\n",
       "Canada                 111.0\n",
       "Japan                  105.0"
      ]
     },
     "execution_count": 275,
     "metadata": {},
     "output_type": "execute_result"
    }
   ],
   "source": [
    "#Get 10 most active countries\n",
    "nations_count.sort_values(\"publications\", ascending = False).head(10)"
   ]
  },
  {
   "cell_type": "markdown",
   "metadata": {},
   "source": [
    "# Plot a map of AI research activity"
   ]
  },
  {
   "cell_type": "code",
   "execution_count": 292,
   "metadata": {
    "collapsed": false
   },
   "outputs": [
    {
     "data": {
      "text/html": [
       "<div id=\"5f18fb6f-0445-4120-81cc-755de483ac6d\" style=\"height: 525px; width: 100%;\" class=\"plotly-graph-div\"></div><script type=\"text/javascript\">require([\"plotly\"], function(Plotly) { window.PLOTLYENV=window.PLOTLYENV || {};window.PLOTLYENV.BASE_URL=\"https://plot.ly\";Plotly.newPlot(\"5f18fb6f-0445-4120-81cc-755de483ac6d\", [{\"marker\": {\"line\": {\"width\": 0}, \"size\": [18.94254787676936, 1.6652789342214822, 20.815986677768528, 3.9550374687760206, 0.20815986677768528, 0.20815986677768528, 0.20815986677768528, 2.9142381348875936, 20.815986677768528, 1.0407993338884263, 23.105745212323065, 2.0815986677768525, 162.98917568692755, 4.163197335553705, 2.4979184013322233, 0.41631973355537055, 1.8734388009991674, 6.244796003330557, 4.78767693588676, 0.41631973355537055, 14.363030807660284, 0.20815986677768528, 3.3305578684429644, 13.946711074104911, 19.775187343880102, 0.20815986677768528, 8.742714404662781, 0.20815986677768528, 1.2489592006661117, 1.8734388009991674, 0.20815986677768528, 142.5895087427144, 4.163197335553705, 83.88842631140717, 0.41631973355537055, 2.4979184013322233, 1.0407993338884263, 32.88925895087427, 21.856786011656954, 0.6244796003330558, 0.20815986677768528, 0.41631973355537055, 1.0407993338884263, 1.6652789342214822, 0.8326394671107411, 0.8326394671107411, 0.6244796003330558, 0.20815986677768528, 1.0407993338884263, 0.20815986677768528, 34.76269775187344, 0.20815986677768528, 12.489592006661114, 0.20815986677768528, 1.2489592006661117, 8.742714404662781, 2.289758534554538, 1.4571190674437968, 2.0815986677768525, 1.6652789342214822, 6.4529558701082435, 0.41631973355537055, 0.41631973355537055, 8.118234804329724, 11.44879267277269, 1.4571190674437968, 0.20815986677768528, 6.661115736885929, 7.4937552039966695, 8.950874271440467, 4.3713572023313905, 6.244796003330557, 0.8326394671107411, 2.7060782681099087, 3.7468776019983348, 14.154870940882597, 27.477102414654453, 3.5387177352206494, 0.8326394671107411, 3.5387177352206494, 3.1223980016652786, 16.236469608659448, 4.78767693588676, 10.824313072439635, 17.693588676103246, 2.0815986677768525, 2.9142381348875936, 25.3955037468776, 90.75770191507078, 0.20815986677768528, 0.41631973355537055, 0.6244796003330558, 0.20815986677768528], \"color\": \"rgb(2, 184, 117)\"}, \"locations\": [\"Algeria\", \"Argentina\", \"Australia\", \"Austria\", \"Azerbaijan\", \"Bahrain\", \"Bangladesh\", \"Belgium\", \"Brazil\", \"Bulgaria\", \"Canada\", \"Chile\", \"China\", \"Colombia\", \"Croatia\", \"Cuba\", \"Cyprus\", \"Czech Republic\", \"Denmark\", \"Ecuador\", \"Egypt\", \"Estonia\", \"Finland\", \"France\", \"Germany\", \"Ghana\", \"Greece\", \"Guatemala\", \"Hong Kong\", \"Hungary\", \"Iceland\", \"India\", \"Indonesia\", \"Iran\", \"Iraq\", \"Ireland\", \"Israel\", \"Italy\", \"Japan\", \"Jordan\", \"Kazakhstan\", \"Kenya\", \"Kuwait\", \"Latvia\", \"Lebanon\", \"Libyan Arab Jamahiriya\", \"Lithuania\", \"Luxembourg\", \"Macao\", \"Macedonia\", \"Malaysia\", \"Mauritius\", \"Mexico\", \"Mongolia\", \"Morocco\", \"Netherlands\", \"New Zealand\", \"Nigeria\", \"Norway\", \"Oman\", \"Pakistan\", \"Palestine\", \"Philippines\", \"Poland\", \"Portugal\", \"Qatar\", \"Reunion\", \"Romania\", \"Russian Federation\", \"Saudi Arabia\", \"Serbia\", \"Singapore\", \"Slovakia\", \"Slovenia\", \"South Africa\", \"South Korea\", \"Spain\", \"Sri Lanka\", \"Sudan\", \"Sweden\", \"Switzerland\", \"Taiwan\", \"Thailand\", \"Tunisia\", \"Turkey\", \"Ukraine\", \"United Arab Emirates\", \"United Kingdom\", \"United States\", \"Uruguay\", \"Venezuela\", \"Viet Nam\", \"Zambia\"], \"locationmode\": \"country names\", \"type\": \"scattergeo\"}], {\"geo\": {\"landcolor\": \"rgb(229, 229, 229)\", \"showcoastlines\": true, \"showland\": true, \"showframe\": false, \"projection\": {\"type\": \"Mercator\"}, \"countrycolor\": \"rgb(255, 255, 255)\", \"domain\": {\"y\": [0, 1], \"x\": [0, 1]}, \"resolution\": 50, \"coastlinecolor\": \"rgb(255, 255, 255)\"}, \"title\": \"World research on AI\", \"font\": {\"family\": \"Droid Serif\"}}, {\"showLink\": true, \"linkText\": \"Export to plot.ly\"})});</script>"
      ],
      "text/plain": [
       "<IPython.core.display.HTML object>"
      ]
     },
     "metadata": {},
     "output_type": "display_data"
    }
   ],
   "source": [
    "#for column in nations_count.columns.values:\n",
    "data = [go.Scattergeo(\n",
    "        locationmode = \"country names\",\n",
    "        locations = nations_count.index,\n",
    "        marker = dict(\n",
    "            size = nations_count[\"publications\"]/nations_count[\"publications\"].sum()*1000,\n",
    "            color = \"rgb(2, 184, 117)\",\n",
    "            line = dict(width = 0)\n",
    "        )\n",
    "    )]\n",
    "\n",
    "layout = go.Layout(\n",
    "    title = \"World research on AI\",\n",
    "    font = dict(family = \"Droid Serif\"),\n",
    "    geo = dict(\n",
    "        resolution = 50,\n",
    "        showframe = False,\n",
    "        showcoastlines = True,\n",
    "        showland = True,\n",
    "        landcolor = \"rgb(229, 229, 229)\",\n",
    "        countrycolor = \"rgb(255, 255, 255)\" ,\n",
    "        coastlinecolor = \"rgb(255, 255, 255)\",\n",
    "        projection = dict(\n",
    "            type = 'Mercator'\n",
    "        ),\n",
    "        domain = dict(\n",
    "            x = [ 0, 1 ],\n",
    "            y = [ 0, 1 ]\n",
    "        )\n",
    "    ),\n",
    ")\n",
    "\n",
    "fig = go.Figure(layout=layout, data=data)\n",
    "iplot(fig)"
   ]
  }
 ],
 "metadata": {
  "anaconda-cloud": {},
  "kernelspec": {
   "display_name": "Python [Root]",
   "language": "python",
   "name": "Python [Root]"
  },
  "language_info": {
   "codemirror_mode": {
    "name": "ipython",
    "version": 3
   },
   "file_extension": ".py",
   "mimetype": "text/x-python",
   "name": "python",
   "nbconvert_exporter": "python",
   "pygments_lexer": "ipython3",
   "version": "3.5.2"
  }
 },
 "nbformat": 4,
 "nbformat_minor": 0
}
